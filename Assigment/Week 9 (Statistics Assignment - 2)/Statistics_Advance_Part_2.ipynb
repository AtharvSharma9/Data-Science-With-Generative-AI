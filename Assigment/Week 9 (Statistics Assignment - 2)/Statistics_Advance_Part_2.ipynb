{
  "nbformat": 4,
  "nbformat_minor": 0,
  "metadata": {
    "colab": {
      "provenance": []
    },
    "kernelspec": {
      "name": "python3",
      "display_name": "Python 3"
    },
    "language_info": {
      "name": "python"
    }
  },
  "cells": [
    {
      "cell_type": "markdown",
      "source": [
        "# Assigment Solution"
      ],
      "metadata": {
        "id": "8yNAHN40YFFi"
      }
    },
    {
      "cell_type": "markdown",
      "source": [
        "## Practical Questions"
      ],
      "metadata": {
        "id": "Ba8a0SQQa2Q9"
      }
    },
    {
      "cell_type": "markdown",
      "metadata": {
        "id": "74da96e3"
      },
      "source": [
        "1. Write a Python program to perform a Z-test for comparing a sample mean to a known population mean and interpret the results"
      ]
    },
    {
      "cell_type": "code",
      "metadata": {
        "colab": {
          "base_uri": "https://localhost:8080/"
        },
        "id": "affdfb2a",
        "outputId": "dee35ab9-f8a8-4b79-ec59-8360f4faecd2"
      },
      "source": [
        "from scipy.stats import norm\n",
        "import numpy as np\n",
        "\n",
        "sample = [50, 52, 48, 47, 51]\n",
        "mu = 50\n",
        "sigma = 2\n",
        "\n",
        "z = (np.mean(sample) - mu) / (sigma / np.sqrt(len(sample)))\n",
        "p = 2 * (1 - norm.cdf(abs(z)))\n",
        "\n",
        "print(\"Z:\", z, \"P-value:\", p)"
      ],
      "execution_count": null,
      "outputs": [
        {
          "output_type": "stream",
          "name": "stdout",
          "text": [
            "Z: -0.4472135954999564 P-value: 0.6547208460185783\n"
          ]
        }
      ]
    },
    {
      "cell_type": "markdown",
      "metadata": {
        "id": "a314f43e"
      },
      "source": [
        "2. Simulate random data to perform hypothesis testing and calculate the corresponding P-value using Python"
      ]
    },
    {
      "cell_type": "code",
      "metadata": {
        "colab": {
          "base_uri": "https://localhost:8080/"
        },
        "id": "3f79647e",
        "outputId": "243e28fb-1366-4be0-e18c-5b15ce6ac6c9"
      },
      "source": [
        "np.random.seed(0)\n",
        "data = np.random.normal(loc=100, scale=15, size=30)\n",
        "z = (np.mean(data) - 100) / (15 / np.sqrt(30))\n",
        "p = 2 * (1 - norm.cdf(abs(z)))\n",
        "\n",
        "print(\"Z:\", z, \"P-value:\", p)"
      ],
      "execution_count": null,
      "outputs": [
        {
          "output_type": "stream",
          "name": "stdout",
          "text": [
            "Z: 2.425624659026381 P-value: 0.015282066343743406\n"
          ]
        }
      ]
    },
    {
      "cell_type": "markdown",
      "metadata": {
        "id": "cb635156"
      },
      "source": [
        "Implement a one-sample Z-test using Python to compare the sample mean with the population mean"
      ]
    },
    {
      "cell_type": "code",
      "metadata": {
        "id": "539904ec"
      },
      "source": [
        "import numpy as np\n",
        "from scipy.stats import norm\n",
        "\n",
        "def z_test(sample, pop_mean, pop_std):\n",
        "    n = len(sample)\n",
        "    z = (np.mean(sample) - pop_mean) / (pop_std / np.sqrt(n))\n",
        "    p = 2 * (1 - norm.cdf(abs(z)))\n",
        "    return z, p"
      ],
      "execution_count": null,
      "outputs": []
    },
    {
      "cell_type": "markdown",
      "metadata": {
        "id": "a81d99b9"
      },
      "source": [
        "Perform a two-tailed Z-test using Python and visualize the decision region on a plot"
      ]
    },
    {
      "cell_type": "code",
      "metadata": {
        "colab": {
          "base_uri": "https://localhost:8080/",
          "height": 452
        },
        "id": "3237f88a",
        "outputId": "61a28500-6948-49dd-8892-93ea0050eb50"
      },
      "source": [
        "import matplotlib.pyplot as plt\n",
        "import numpy as np\n",
        "from scipy.stats import norm\n",
        "\n",
        "x = np.linspace(-4, 4, 1000)\n",
        "z = 2.1\n",
        "\n",
        "plt.plot(x, norm.pdf(x))\n",
        "plt.axvline(x=z, color='red')\n",
        "plt.fill_between(x, 0, norm.pdf(x), where=(abs(x) > 1.96), color='gray', alpha=0.5)\n",
        "plt.title(\"Two-tailed Z-test\")\n",
        "plt.show()"
      ],
      "execution_count": null,
      "outputs": [
        {
          "output_type": "display_data",
          "data": {
            "text/plain": [
              "<Figure size 640x480 with 1 Axes>"
            ],
            "image/png": "[encoded data removed]"
          },
          "metadata": {}
        }
      ]
    },
    {
      "cell_type": "markdown",
      "metadata": {
        "id": "4048c74d"
      },
      "source": [
        "Create a Python function that calculates and visualizes Type 1 and Type 2 errors during hypothesis testing"
      ]
    },
    {
      "cell_type": "code",
      "metadata": {
        "id": "aa5be55a"
      },
      "source": [
        "import matplotlib.pyplot as plt\n",
        "import numpy as np\n",
        "from scipy.stats import norm\n",
        "\n",
        "def visualize_errors():\n",
        "    x = np.linspace(-4, 8, 1000)\n",
        "    plt.plot(x, norm.pdf(x, 0, 1), label='H₀')\n",
        "    plt.plot(x, norm.pdf(x, 2, 1), label='H₁')\n",
        "    plt.axvline(1.645, color='red', linestyle='--')\n",
        "    plt.fill_between(x, 0, norm.pdf(x, 0, 1), where=(x > 1.645), alpha=0.4, label='Type I')\n",
        "    plt.fill_between(x, 0, norm.pdf(x, 2, 1), where=(x < 1.645), alpha=0.4, label='Type II')\n",
        "    plt.legend()\n",
        "    plt.title(\"Type I and II Errors\")\n",
        "    plt.show()"
      ],
      "execution_count": null,
      "outputs": []
    },
    {
      "cell_type": "markdown",
      "metadata": {
        "id": "768bc7c0"
      },
      "source": [
        "Write a Python program to perform an independent T-test and interpret the results"
      ]
    },
    {
      "cell_type": "code",
      "metadata": {
        "colab": {
          "base_uri": "https://localhost:8080/"
        },
        "id": "f5d07d64",
        "outputId": "c869114b-fe20-447b-ee8b-96df9e12b026"
      },
      "source": [
        "from scipy.stats import ttest_ind\n",
        "\n",
        "a = [85, 90, 88, 86]\n",
        "b = [80, 83, 81, 79]\n",
        "t_stat, p = ttest_ind(a, b)\n",
        "\n",
        "print(\"T-stat:\", t_stat, \"P-value:\", p)"
      ],
      "execution_count": null,
      "outputs": [
        {
          "output_type": "stream",
          "name": "stdout",
          "text": [
            "T-stat: 4.644832406568227 P-value: 0.0035226547547856147\n"
          ]
        }
      ]
    },
    {
      "cell_type": "markdown",
      "metadata": {
        "id": "e2ed7b05"
      },
      "source": [
        "Perform a paired sample T-test using Python and visualize the comparison results"
      ]
    },
    {
      "cell_type": "code",
      "metadata": {
        "colab": {
          "base_uri": "https://localhost:8080/",
          "height": 447
        },
        "id": "bef54b45",
        "outputId": "48aeeb8a-9328-4d6b-d85c-ec2c2480e572"
      },
      "source": [
        "from scipy.stats import ttest_rel\n",
        "import matplotlib.pyplot as plt\n",
        "\n",
        "before = [100, 102, 98, 95]\n",
        "after = [105, 103, 99, 101]\n",
        "t, p = ttest_rel(before, after)\n",
        "\n",
        "print(\"T:\", t, \"P-value:\", p)\n",
        "\n",
        "plt.plot(before, label='Before')\n",
        "plt.plot(after, label='After')\n",
        "plt.legend()\n",
        "plt.show()"
      ],
      "execution_count": null,
      "outputs": [
        {
          "output_type": "stream",
          "name": "stdout",
          "text": [
            "T: -2.471524577045464 P-value: 0.08994273833188737\n"
          ]
        },
        {
          "output_type": "display_data",
          "data": {
            "text/plain": [
              "<Figure size 640x480 with 1 Axes>"
            ],
            "image/png": "[encoded data removed]"
          },
          "metadata": {}
        }
      ]
    },
    {
      "cell_type": "markdown",
      "metadata": {
        "id": "3a6617e9"
      },
      "source": [
        "Simulate data and perform both Z-test and T-test, then compare the results using Python"
      ]
    },
    {
      "cell_type": "code",
      "metadata": {
        "colab": {
          "base_uri": "https://localhost:8080/"
        },
        "id": "1322c480",
        "outputId": "6624a133-aae9-45a4-f13c-b4e19ddcda57"
      },
      "source": [
        "import numpy as np\n",
        "from scipy.stats import norm, ttest_1samp\n",
        "\n",
        "data = np.random.normal(100, 15, 20)\n",
        "mu = 100\n",
        "\n",
        "# Z-test (assuming population standard deviation is known)\n",
        "z = (np.mean(data) - mu) / (15 / np.sqrt(len(data)))\n",
        "\n",
        "# T-test (when population standard deviation is unknown, using sample standard deviation)\n",
        "t, p_t = ttest_1samp(data, mu)\n",
        "\n",
        "print(\"Z:\", z, \"T:\", t)"
      ],
      "execution_count": null,
      "outputs": [
        {
          "output_type": "stream",
          "name": "stdout",
          "text": [
            "Z: -1.3992709222635724 T: -1.3192339373311341\n"
          ]
        }
      ]
    },
    {
      "cell_type": "markdown",
      "metadata": {
        "id": "d6c27ea3"
      },
      "source": [
        "Write a Python function to calculate the confidence interval for a sample mean and explain its significance"
      ]
    },
    {
      "cell_type": "code",
      "metadata": {
        "id": "7d86ea1e"
      },
      "source": [
        "import numpy as np\n",
        "from scipy.stats import t\n",
        "\n",
        "def confidence_interval(data, confidence=0.95):\n",
        "    n = len(data)\n",
        "    mean = np.mean(data)\n",
        "    sem = np.std(data, ddof=1) / np.sqrt(n)\n",
        "    margin = sem * t.ppf((1 + confidence) / 2, n-1)\n",
        "    return (mean - margin, mean + margin)"
      ],
      "execution_count": null,
      "outputs": []
    },
    {
      "cell_type": "markdown",
      "metadata": {
        "id": "a7a1a984"
      },
      "source": [
        "Write a Python program to calculate the margin of error for a given confidence level using sample data"
      ]
    },
    {
      "cell_type": "code",
      "metadata": {
        "colab": {
          "base_uri": "https://localhost:8080/"
        },
        "id": "ce441895",
        "outputId": "423e335c-2234-40e9-f1f3-0ceeceb74337"
      },
      "source": [
        "from scipy.stats import t\n",
        "import numpy as np\n",
        "\n",
        "data = [70, 72, 68, 74]\n",
        "n = len(data)\n",
        "sem = np.std(data, ddof=1)/np.sqrt(n)\n",
        "moe = t.ppf(0.975, n-1) * sem\n",
        "\n",
        "print(\"Margin of Error:\", moe)"
      ],
      "execution_count": null,
      "outputs": [
        {
          "output_type": "stream",
          "name": "stdout",
          "text": [
            "Margin of Error: 4.108520513521758\n"
          ]
        }
      ]
    },
    {
      "cell_type": "markdown",
      "metadata": {
        "id": "889f70af"
      },
      "source": [
        "Implement a Bayesian inference method using Bayes' Theorem in Python and explain the process"
      ]
    },
    {
      "cell_type": "code",
      "metadata": {
        "colab": {
          "base_uri": "https://localhost:8080/"
        },
        "id": "7f14d1c3",
        "outputId": "8606f150-5f19-4c73-da8e-d02b4f6208e0"
      },
      "source": [
        "def bayes(prior_A, prior_B, likelihood_A, likelihood_B):\n",
        "    norm = prior_A * likelihood_A + prior_B * likelihood_B\n",
        "    return (prior_A * likelihood_A) / norm\n",
        "\n",
        "posterior = bayes(0.4, 0.6, 0.9, 0.2)\n",
        "print(\"Posterior P(A|B):\", posterior)"
      ],
      "execution_count": null,
      "outputs": [
        {
          "output_type": "stream",
          "name": "stdout",
          "text": [
            "Posterior P(A|B): 0.75\n"
          ]
        }
      ]
    },
    {
      "cell_type": "markdown",
      "metadata": {
        "id": "1c41331f"
      },
      "source": [
        "Perform a Chi-square test for independence between two categorical variables in Python"
      ]
    },
    {
      "cell_type": "code",
      "metadata": {
        "colab": {
          "base_uri": "https://localhost:8080/"
        },
        "id": "10a54265",
        "outputId": "41ea3fc9-405e-402d-a0ea-d4bab43ada51"
      },
      "source": [
        "import pandas as pd\n",
        "from scipy.stats import chi2_contingency\n",
        "\n",
        "data = [[30, 10], [20, 40]]\n",
        "chi2, p, _, _ = chi2_contingency(data)\n",
        "\n",
        "print(\"Chi-square:\", chi2, \"P-value:\", p)"
      ],
      "execution_count": null,
      "outputs": [
        {
          "output_type": "stream",
          "name": "stdout",
          "text": [
            "Chi-square: 15.041666666666666 P-value: 0.00010516355403363098\n"
          ]
        }
      ]
    },
    {
      "cell_type": "markdown",
      "metadata": {
        "id": "deba242e"
      },
      "source": [
        "Write a Python program to calculate the expected frequencies for a Chi-square test based on observed data"
      ]
    },
    {
      "cell_type": "code",
      "metadata": {
        "colab": {
          "base_uri": "https://localhost:8080/"
        },
        "id": "f48d911b",
        "outputId": "482dd7b8-5b2e-4814-916b-911c533eb563"
      },
      "source": [
        "from scipy.stats import chi2_contingency\n",
        "\n",
        "obs = [[10, 20], [30, 40]]\n",
        "_, _, _, expected = chi2_contingency(obs)\n",
        "\n",
        "print(\"Expected Frequencies:\\n\", expected)"
      ],
      "execution_count": null,
      "outputs": [
        {
          "output_type": "stream",
          "name": "stdout",
          "text": [
            "Expected Frequencies:\n",
            " [[12. 18.]\n",
            " [28. 42.]]\n"
          ]
        }
      ]
    },
    {
      "cell_type": "markdown",
      "metadata": {
        "id": "e170a3c0"
      },
      "source": [
        "Perform a goodness-of-fit test using Python to compare the observed data to an expected distribution"
      ]
    },
    {
      "cell_type": "code",
      "metadata": {
        "colab": {
          "base_uri": "https://localhost:8080/"
        },
        "id": "2843997b",
        "outputId": "6b5d0f3f-99f3-4da5-bad2-817890abbe16"
      },
      "source": [
        "from scipy.stats import chisquare\n",
        "\n",
        "obs = [18, 22, 20]\n",
        "exp = [20, 20, 20]\n",
        "chi2, p = chisquare(obs, f_exp=exp)\n",
        "\n",
        "print(\"Chi2:\", chi2, \"P-value:\", p)"
      ],
      "execution_count": null,
      "outputs": [
        {
          "output_type": "stream",
          "name": "stdout",
          "text": [
            "Chi2: 0.4 P-value: 0.8187307530779818\n"
          ]
        }
      ]
    },
    {
      "cell_type": "markdown",
      "metadata": {
        "id": "d2748b20"
      },
      "source": [
        "Create a Python script to simulate and visualize the Chi-square distribution and discuss its characteristics"
      ]
    },
    {
      "cell_type": "code",
      "metadata": {
        "colab": {
          "base_uri": "https://localhost:8080/",
          "height": 452
        },
        "id": "3f9a46af",
        "outputId": "510cb5ab-a58a-4894-f81d-420ac81e3e9d"
      },
      "source": [
        "import matplotlib.pyplot as plt\n",
        "import numpy as np\n",
        "from scipy.stats import chi2\n",
        "\n",
        "x = np.linspace(0, 20, 500)\n",
        "df = 4\n",
        "plt.plot(x, chi2.pdf(x, df))\n",
        "plt.title(\"Chi-square Distribution (df=4)\")\n",
        "plt.show()"
      ],
      "execution_count": null,
      "outputs": [
        {
          "output_type": "display_data",
          "data": {
            "text/plain": [
              "<Figure size 640x480 with 1 Axes>"
            ],
            "image/png": "[encoded data removed]"
          },
          "metadata": {}
        }
      ]
    },
    {
      "cell_type": "markdown",
      "metadata": {
        "id": "4e2be49a"
      },
      "source": [
        "Implement an F-test using Python to compare the variances of two random samples"
      ]
    },
    {
      "cell_type": "code",
      "metadata": {
        "colab": {
          "base_uri": "https://localhost:8080/"
        },
        "id": "613be0b9",
        "outputId": "174f4b41-f544-4125-ed12-0f4a8d84f228"
      },
      "source": [
        "import numpy as np\n",
        "from scipy.stats import f\n",
        "\n",
        "a = [20, 21, 19, 22]\n",
        "b = [15, 17, 14, 16]\n",
        "\n",
        "F = np.var(a, ddof=1) / np.var(b, ddof=1)\n",
        "p = 1 - f.cdf(F, len(a)-1, len(b)-1)\n",
        "\n",
        "print(\"F:\", F, \"P-value:\", p)"
      ],
      "execution_count": null,
      "outputs": [
        {
          "output_type": "stream",
          "name": "stdout",
          "text": [
            "F: 1.0 P-value: 0.4999999999999999\n"
          ]
        }
      ]
    },
    {
      "cell_type": "markdown",
      "metadata": {
        "id": "bd76ff9a"
      },
      "source": [
        "Write a Python program to perform an ANOVA test to compare means between multiple groups and interpret the results"
      ]
    },
    {
      "cell_type": "code",
      "metadata": {
        "colab": {
          "base_uri": "https://localhost:8080/"
        },
        "id": "de7cf428",
        "outputId": "f3d93f4f-8659-428b-d5fa-828c28aa1100"
      },
      "source": [
        "from scipy.stats import f_oneway\n",
        "\n",
        "a = [10, 12, 11]\n",
        "b = [14, 16, 15]\n",
        "c = [11, 13, 12]\n",
        "\n",
        "f_stat, p = f_oneway(a, b, c)\n",
        "\n",
        "print(\"F-statistic:\", f_stat, \"P-value:\", p)"
      ],
      "execution_count": null,
      "outputs": [
        {
          "output_type": "stream",
          "name": "stdout",
          "text": [
            "F-statistic: 13.000000000000009 P-value: 0.006591796874999991\n"
          ]
        }
      ]
    },
    {
      "cell_type": "markdown",
      "metadata": {
        "id": "5e535c1f"
      },
      "source": [
        "Perform a one-way ANOVA test using Python to compare the means of different groups and plot the results"
      ]
    },
    {
      "cell_type": "code",
      "metadata": {
        "colab": {
          "base_uri": "https://localhost:8080/",
          "height": 484
        },
        "id": "8b4a40a4",
        "outputId": "748d57f9-3710-4790-9117-dd1d9da568f1"
      },
      "source": [
        "from scipy.stats import f_oneway\n",
        "import seaborn as sns\n",
        "import pandas as pd\n",
        "import matplotlib.pyplot as plt\n",
        "\n",
        "df = pd.DataFrame({'Score': [70, 72, 75, 80, 85, 82], 'Group': ['A']*3 + ['B']*3})\n",
        "\n",
        "group_a = df[df['Group'] == 'A']['Score']\n",
        "group_b = df[df['Group'] == 'B']['Score']\n",
        "\n",
        "f_stat, p_value = f_oneway(group_a, group_b)\n",
        "\n",
        "print(\"F-statistic:\", f_stat)\n",
        "print(\"P-value:\", p_value)\n",
        "\n",
        "sns.boxplot(x='Group', y='Score', data=df)\n",
        "plt.show()"
      ],
      "execution_count": null,
      "outputs": [
        {
          "output_type": "stream",
          "name": "stdout",
          "text": [
            "F-statistic: 23.68421052631578\n",
            "P-value: 0.008239642742274785\n"
          ]
        },
        {
          "output_type": "display_data",
          "data": {
            "text/plain": [
              "<Figure size 640x480 with 1 Axes>"
            ],
            "image/png": "[encoded data removed]"
          },
          "metadata": {}
        }
      ]
    },
    {
      "cell_type": "markdown",
      "metadata": {
        "id": "8fddc72b"
      },
      "source": [
        "Perform a two-way ANOVA test using Python to study the interaction between two factors and visualize the results"
      ]
    },
    {
      "cell_type": "code",
      "metadata": {
        "colab": {
          "base_uri": "https://localhost:8080/",
          "height": 536
        },
        "id": "1d2af141",
        "outputId": "6b9e2a96-32a2-4fde-b6d2-54daced11775"
      },
      "source": [
        "import statsmodels.api as sm\n",
        "from statsmodels.formula.api import ols\n",
        "import pandas as pd\n",
        "import seaborn as sns\n",
        "import matplotlib.pyplot as plt\n",
        "\n",
        "# Modified DataFrame with more data points for each combination of FactorA and FactorB\n",
        "df = pd.DataFrame({'Score': [10, 12, 11, 9,  # Low, X, Y, Z\n",
        "                             14, 15, 13, 16, # High, X, Y, Z\n",
        "                             16, 17, 18, 15, # Mid, X, Y, Z\n",
        "                             11, 13, 10,     # Low, X, Y\n",
        "                             15, 16, 14,     # High, X, Y\n",
        "                             17, 18, 19],    # Mid, X, Y\n",
        "                   'FactorA': ['Low']*4 + ['High']*4 + ['Mid']*4 + ['Low']*3 + ['High']*3 + ['Mid']*3,\n",
        "                   'FactorB': ['X', 'Y', 'Z', 'X'] + ['X', 'Y', 'Z', 'X'] + ['X', 'Y', 'Z', 'X'] + ['X', 'Y', 'Z'] + ['X', 'Y', 'Z'] + ['X', 'Y', 'Z']})\n",
        "\n",
        "\n",
        "model = ols('Score ~ C(FactorA) * C(FactorB)', data=df).fit()\n",
        "print(sm.stats.anova_lm(model, typ=2))\n",
        "\n",
        "sns.pointplot(x='FactorA', y='Score', hue='FactorB', data=df)\n",
        "plt.show()"
      ],
      "execution_count": null,
      "outputs": [
        {
          "output_type": "stream",
          "name": "stdout",
          "text": [
            "                           sum_sq    df          F        PR(>F)\n",
            "C(FactorA)             140.666667   2.0  93.777778  4.728295e-08\n",
            "C(FactorB)               8.142857   2.0   5.428571  2.093899e-02\n",
            "C(FactorA):C(FactorB)   12.000000   4.0   4.000000  2.744119e-02\n",
            "Residual                 9.000000  12.0        NaN           NaN\n"
          ]
        },
        {
          "output_type": "display_data",
          "data": {
            "text/plain": [
              "<Figure size 640x480 with 1 Axes>"
            ],
            "image/png": "[encoded data removed]"
          },
          "metadata": {}
        }
      ]
    },
    {
      "cell_type": "markdown",
      "metadata": {
        "id": "601bd614"
      },
      "source": [
        "Perform a one-way ANOVA test using Python to compare the means of different groups and plot the results"
      ]
    },
    {
      "cell_type": "code",
      "metadata": {
        "colab": {
          "base_uri": "https://localhost:8080/",
          "height": 484
        },
        "id": "bdb04bcc",
        "outputId": "eab97a2f-5b16-4f16-b1b0-0d5203061839"
      },
      "source": [
        "from scipy.stats import f_oneway\n",
        "import seaborn as sns\n",
        "import pandas as pd\n",
        "import matplotlib.pyplot as plt\n",
        "\n",
        "df = pd.DataFrame({'Score': [70, 72, 75, 80, 85, 82], 'Group': ['A']*3 + ['B']*3})\n",
        "\n",
        "group_a = df[df['Group'] == 'A']['Score']\n",
        "group_b = df[df['Group'] == 'B']['Score']\n",
        "\n",
        "f_stat, p_value = f_oneway(group_a, group_b)\n",
        "\n",
        "print(\"F-statistic:\", f_stat)\n",
        "print(\"P-value:\", p_value)\n",
        "\n",
        "sns.boxplot(x='Group', y='Score', data=df)\n",
        "plt.show()"
      ],
      "execution_count": null,
      "outputs": [
        {
          "output_type": "stream",
          "name": "stdout",
          "text": [
            "F-statistic: 23.68421052631578\n",
            "P-value: 0.008239642742274785\n"
          ]
        },
        {
          "output_type": "display_data",
          "data": {
            "text/plain": [
              "<Figure size 640x480 with 1 Axes>"
            ],
            "image/png": "[encoded data removed]"
          },
          "metadata": {}
        }
      ]
    },
    {
      "cell_type": "markdown",
      "metadata": {
        "id": "ff4698d4"
      },
      "source": [
        "Write a Python program to visualize the F-distribution and discuss its use in hypothesis testing"
      ]
    },
    {
      "cell_type": "code",
      "metadata": {
        "colab": {
          "base_uri": "https://localhost:8080/",
          "height": 472
        },
        "id": "f4b59635",
        "outputId": "95ddd0e0-f9dd-413c-c054-34c7000d668e"
      },
      "source": [
        "import numpy as np\n",
        "import matplotlib.pyplot as plt\n",
        "from scipy.stats import f\n",
        "\n",
        "x = np.linspace(0, 5, 500)\n",
        "plt.plot(x, f.pdf(x, dfn=5, dfd=10))\n",
        "plt.title(\"F-distribution (df1=5, df2=10)\")\n",
        "plt.xlabel(\"F-value\")\n",
        "plt.show()"
      ],
      "execution_count": null,
      "outputs": [
        {
          "output_type": "display_data",
          "data": {
            "text/plain": [
              "<Figure size 640x480 with 1 Axes>"
            ],
            "image/png": "[encoded data removed]"
          },
          "metadata": {}
        }
      ]
    },
    {
      "cell_type": "markdown",
      "metadata": {
        "id": "345d5eee"
      },
      "source": [
        "Perform a one-way ANOVA test in Python and visualize the results with boxplots to compare group means"
      ]
    },
    {
      "cell_type": "code",
      "metadata": {
        "colab": {
          "base_uri": "https://localhost:8080/",
          "height": 466
        },
        "id": "c6c3288a",
        "outputId": "0a1b3a0f-6ad8-467a-fdd1-2b1eb11cc987"
      },
      "source": [
        "from scipy.stats import f_oneway\n",
        "import seaborn as sns\n",
        "import pandas as pd\n",
        "import matplotlib.pyplot as plt\n",
        "\n",
        "df = pd.DataFrame({'Score': [80, 82, 85, 75, 78, 79, 90, 88, 92],\n",
        "                   'Group': ['A']*3 + ['B']*3 + ['C']*3})\n",
        "\n",
        "print(f_oneway(df[df.Group=='A'].Score, df[df.Group=='B'].Score, df[df.Group=='C'].Score))\n",
        "\n",
        "sns.boxplot(x='Group', y='Score', data=df)\n",
        "plt.show()"
      ],
      "execution_count": null,
      "outputs": [
        {
          "output_type": "stream",
          "name": "stdout",
          "text": [
            "F_onewayResult(statistic=np.float64(24.977272727272744), pvalue=np.float64(0.001232956160238391))\n"
          ]
        },
        {
          "output_type": "display_data",
          "data": {
            "text/plain": [
              "<Figure size 640x480 with 1 Axes>"
            ],
            "image/png": "[encoded data removed]"
          },
          "metadata": {}
        }
      ]
    },
    {
      "cell_type": "markdown",
      "metadata": {
        "id": "8f878573"
      },
      "source": [
        "Simulate random data from a normal distribution, then perform hypothesis testing to evaluate the means"
      ]
    },
    {
      "cell_type": "code",
      "metadata": {
        "colab": {
          "base_uri": "https://localhost:8080/"
        },
        "id": "3bdc727b",
        "outputId": "d91d54bd-c281-4ac9-a7b3-e647eedc8aea"
      },
      "source": [
        "import numpy as np\n",
        "from scipy.stats import ttest_1samp\n",
        "\n",
        "data = np.random.normal(loc=50, scale=5, size=30)\n",
        "t_stat, p = ttest_1samp(data, popmean=52)\n",
        "\n",
        "print(\"T:\", t_stat, \"P-value:\", p)"
      ],
      "execution_count": null,
      "outputs": [
        {
          "output_type": "stream",
          "name": "stdout",
          "text": [
            "T: -5.6953076247241645 P-value: 3.6855396923826197e-06\n"
          ]
        }
      ]
    },
    {
      "cell_type": "markdown",
      "metadata": {
        "id": "861c1af4"
      },
      "source": [
        "Perform a hypothesis test for population variance using a Chi-square distribution and interpret the results"
      ]
    },
    {
      "cell_type": "code",
      "metadata": {
        "colab": {
          "base_uri": "https://localhost:8080/"
        },
        "id": "3b343642",
        "outputId": "fd95dfdc-b1fe-4761-b3d0-c0bd6ac361ed"
      },
      "source": [
        "from scipy.stats import chi2\n",
        "import numpy as np\n",
        "\n",
        "data = [5, 6, 7, 6, 5]\n",
        "s2 = np.var(data, ddof=1)\n",
        "n = len(data)\n",
        "sigma2 = 1.5\n",
        "\n",
        "chi_stat = (n-1)*s2/sigma2\n",
        "p = 1 - chi2.cdf(chi_stat, df=n-1)\n",
        "\n",
        "print(\"Chi-square stat:\", chi_stat, \"P-value:\", p)"
      ],
      "execution_count": null,
      "outputs": [
        {
          "output_type": "stream",
          "name": "stdout",
          "text": [
            "Chi-square stat: 1.8666666666666665 P-value: 0.7602653936792901\n"
          ]
        }
      ]
    },
    {
      "cell_type": "markdown",
      "metadata": {
        "id": "700ff161"
      },
      "source": [
        "Write a Python script to perform a Z-test for comparing proportions between two datasets or groups"
      ]
    },
    {
      "cell_type": "code",
      "metadata": {
        "colab": {
          "base_uri": "https://localhost:8080/"
        },
        "id": "1acdf937",
        "outputId": "7e5e3b0b-c947-4ec2-b46f-35e6cd0d49e6"
      },
      "source": [
        "from statsmodels.stats.proportion import proportions_ztest\n",
        "\n",
        "success = [30, 45]\n",
        "nobs = [100, 120]\n",
        "z_stat, p = proportions_ztest(success, nobs)\n",
        "\n",
        "print(\"Z:\", z_stat, \"P-value:\", p)"
      ],
      "execution_count": null,
      "outputs": [
        {
          "output_type": "stream",
          "name": "stdout",
          "text": [
            "Z: -1.1685534824642432 P-value: 0.24258357934832098\n"
          ]
        }
      ]
    },
    {
      "cell_type": "markdown",
      "metadata": {
        "id": "d639558a"
      },
      "source": [
        "Implement an F-test for comparing the variances of two datasets, then interpret and visualize the results"
      ]
    },
    {
      "cell_type": "code",
      "metadata": {
        "colab": {
          "base_uri": "https://localhost:8080/",
          "height": 469
        },
        "id": "91f8b668",
        "outputId": "3c078b27-d4b7-4573-e5cd-3be907a770f0"
      },
      "source": [
        "import numpy as np\n",
        "from scipy.stats import f\n",
        "import matplotlib.pyplot as plt\n",
        "\n",
        "a = [12, 13, 14, 13]\n",
        "b = [9, 10, 11, 9]\n",
        "\n",
        "F = np.var(a, ddof=1) / np.var(b, ddof=1)\n",
        "dfn, dfd = len(a)-1, len(b)-1\n",
        "p = 1 - f.cdf(F, dfn, dfd)\n",
        "\n",
        "print(\"F:\", F, \"P-value:\", p)\n",
        "\n",
        "plt.axvline(F, color='red')\n",
        "plt.title(\"F-distribution & Test Stat\")\n",
        "plt.show()"
      ],
      "execution_count": null,
      "outputs": [
        {
          "output_type": "stream",
          "name": "stdout",
          "text": [
            "F: 0.7272727272727273 P-value: 0.6000996668227536\n"
          ]
        },
        {
          "output_type": "display_data",
          "data": {
            "text/plain": [
              "<Figure size 640x480 with 1 Axes>"
            ],
            "image/png": "[encoded data removed]"
          },
          "metadata": {}
        }
      ]
    },
    {
      "cell_type": "markdown",
      "metadata": {
        "id": "5abcfd36"
      },
      "source": [
        "Perform a Chi-square test for goodness of fit with simulated data and analyze the results"
      ]
    },
    {
      "cell_type": "code",
      "metadata": {
        "colab": {
          "base_uri": "https://localhost:8080/"
        },
        "id": "3160cfb4",
        "outputId": "6f9f3c9e-ccd0-4853-b8e6-6c64aa820a3c"
      },
      "source": [
        "from scipy.stats import chisquare\n",
        "import numpy as np\n",
        "\n",
        "obs = np.random.randint(10, 30, size=4)\n",
        "# The sum of expected frequencies must be equal to the sum of observed frequencies\n",
        "total_obs = np.sum(obs)\n",
        "n_categories = len(obs)\n",
        "exp = np.full(n_categories, total_obs / n_categories)\n",
        "\n",
        "chi2_stat, p = chisquare(obs, f_exp=exp)\n",
        "\n",
        "print(\"Chi2:\", chi2_stat, \"P-value:\", p)"
      ],
      "execution_count": null,
      "outputs": [
        {
          "output_type": "stream",
          "name": "stdout",
          "text": [
            "Chi2: 4.666666666666666 P-value: 0.19789712621036726\n"
          ]
        }
      ]
    },
    {
      "cell_type": "markdown",
      "source": [
        "## Theory Questions"
      ],
      "metadata": {
        "id": "J6MG-4O9dHud"
      }
    },
    {
      "cell_type": "markdown",
      "metadata": {
        "id": "144b2e33"
      },
      "source": [
        "**What is hypothesis testing in statistics?**\n",
        "\n",
        "Hypothesis testing is a process to make inferences about a population.\n",
        "We use sample data to test an assumption (hypothesis).\n",
        "It helps determine if observed data is due to chance.\n",
        "Based on the result, we reject or fail to reject the hypothesis."
      ]
    },
    {
      "cell_type": "markdown",
      "metadata": {
        "id": "1b552701"
      },
      "source": [
        "**What is the null hypothesis, and how does it differ from the alternative hypothesis?**\n",
        "\n",
        "The null hypothesis (H₀) states no effect or difference.\n",
        "The alternative hypothesis (H₁) claims there is an effect or difference.\n",
        "H₀ is assumed true until evidence suggests otherwise.\n",
        "Rejecting H₀ supports the validity of H₁."
      ]
    },
    {
      "cell_type": "markdown",
      "metadata": {
        "id": "1f8334ad"
      },
      "source": [
        "**What is the significance level in hypothesis testing, and why is it important?**\n",
        "\n",
        "The significance level (α) is the threshold for rejecting H₀.\n",
        "Common values are 0.05 or 0.01.\n",
        "It represents the probability of a Type I error.\n",
        "Lower α means stricter criteria for rejecting H₀."
      ]
    },
    {
      "cell_type": "markdown",
      "metadata": {
        "id": "bc1105f8"
      },
      "source": [
        "**What does a P-value represent in hypothesis testing?**\n",
        "\n",
        "P-value shows the probability of getting the observed result,\n",
        "or more extreme, assuming the null hypothesis is true.\n",
        "It helps quantify the strength of evidence against H₀.\n",
        "A small p-value suggests the data is unlikely under H₀."
      ]
    },
    {
      "cell_type": "markdown",
      "metadata": {
        "id": "92978edc"
      },
      "source": [
        "**How do you interpret the P-value in hypothesis testing?**\n",
        "\n",
        "If P-value ≤ α, reject the null hypothesis (significant result).\n",
        "If P-value > α, fail to reject the null (not significant).\n",
        "Smaller p-values indicate stronger evidence against H₀.\n",
        "Interpretation depends on context and chosen α."
      ]
    },
    {
      "cell_type": "markdown",
      "metadata": {
        "id": "a6002836"
      },
      "source": [
        "**What are Type 1 and Type 2 errors in hypothesis testing?**\n",
        "\n",
        "Type I error: Rejecting a true null hypothesis (false positive).\n",
        "Type II error: Failing to reject a false null hypothesis (false negative).\n",
        "Reducing one increases the other (trade-off).\n",
        "Type I error probability = α, Type II = β."
      ]
    },
    {
      "cell_type": "markdown",
      "metadata": {
        "id": "1e4caf6d"
      },
      "source": [
        "**What is the difference between a one-tailed and a two-tailed test in hypothesis testing?**\n",
        "\n",
        "One-tailed test checks effect in one direction only.\n",
        "Two-tailed test checks for effect in both directions.\n",
        "Use one-tailed if you predict the effect’s direct"
      ]
    },
    {
      "cell_type": "markdown",
      "metadata": {
        "id": "cd9d2eba"
      },
      "source": [
        "**What is the Z-test, and when is it used in hypothesis testing?**\n",
        "\n",
        "Z-test is used when population variance is known and sample size is large (n ≥ 30).\n",
        "It tests if a sample mean significantly differs from a population mean.\n",
        "Applies to normal distribution cases.\n",
        "Often used in comparing means or proportions."
      ]
    },
    {
      "cell_type": "markdown",
      "metadata": {
        "id": "c91b3b9b"
      },
      "source": [
        "**How do you calculate the Z-score, and what does it represent in hypothesis testing?**\n",
        "\n",
        "Z = (X̄ - μ) / (σ / √n) where X̄ is sample mean, μ is population mean.\n",
        "It shows how many standard deviations a value is from the mean.\n",
        "Used to assess statistical significance.\n",
        "Higher absolute Z means stronger deviation from H₀."
      ]
    },
    {
      "cell_type": "markdown",
      "metadata": {
        "id": "0bcdd617"
      },
      "source": [
        "**What is the T-distribution, and when should it be used instead of the normal distribution?**\n",
        "\n",
        "T-distribution is used when sample size is small (n < 30)\n",
        "and population standard deviation is unknown.\n",
        "It’s wider and flatter than the normal distribution.\n",
        "It becomes closer to normal as sample size increases."
      ]
    },
    {
      "cell_type": "markdown",
      "metadata": {
        "id": "a7c31076"
      },
      "source": [
        "**What is the difference between a Z-test and a T-test?**\n",
        "\n",
        "Z-test is for large samples with known population variance.\n",
        "T-test is for small samples with unknown variance.\n",
        "T-test uses the t-distribution, Z-test uses normal.\n",
        "T-test is more conservative due to heavier tails."
      ]
    },
    {
      "cell_type": "markdown",
      "metadata": {
        "id": "cb16309c"
      },
      "source": [
        "**What is the T-test, and how is it used in hypothesis testing?**\n",
        "\n",
        "The T-test compares sample means to determine if they are significantly different.\n",
        "It’s used when population standard deviation is unknown.\n",
        "Types include one-sample, two-sample, and paired T-tests.\n",
        "It helps test hypotheses with small sample sizes."
      ]
    },
    {
      "cell_type": "markdown",
      "metadata": {
        "id": "5a6654ef"
      },
      "source": [
        "**What is the relationship between Z-test and T-test in hypothesis testing?**\n",
        "\n",
        "Both tests compare means but under different conditions.\n",
        "Z-test is used when population variance is known and n is large.\n",
        "T-test is used for small samples with unknown variance.\n",
        "They serve similar purposes but with different assumptions."
      ]
    },
    {
      "cell_type": "markdown",
      "metadata": {
        "id": "20e77bd1"
      },
      "source": [
        "**What is a confidence interval, and how is it used to interpret statistical results?**\n",
        "\n",
        "A confidence interval (CI) estimates a range where a parameter likely lies.\n",
        "A 95% CI means there's 95% confidence the true value lies within it.\n",
        "It helps express uncertainty in estimates.\n",
        "Narrower CIs mean more precise estimates."
      ]
    },
    {
      "cell_type": "markdown",
      "metadata": {
        "id": "699f95d3"
      },
      "source": [
        "**What is the margin of error, and how does it affect the confidence interval?**\n",
        "\n",
        "Margin of error indicates the range of uncertainty around a sample estimate.\n",
        "It’s added/subtracted to form the confidence interval.\n",
        "Larger margins widen the interval, reducing precision.\n",
        "It depends on sample size and variability."
      ]
    },
    {
      "cell_type": "markdown",
      "metadata": {
        "id": "57bdc2da"
      },
      "source": [
        "**How is Bayes' Theorem used in statistics, and what is its significance?**\n",
        "\n",
        "Bayes' Theorem updates the probability of an event based on new evidence.\n",
        "It relates prior, likelihood, and posterior probabilities.\n",
        "Used in medical testing, machine learning, and decision-making.\n",
        "It’s key to Bayesian inference in statistics."
      ]
    },
    {
      "cell_type": "markdown",
      "metadata": {
        "id": "e62a7570"
      },
      "source": [
        "**What is the Chi-square distribution, and when is it used?**\n",
        "\n",
        "The Chi-square distribution is used for categorical data.\n",
        "It’s used in tests of independence and goodness of fit.\n",
        "It’s skewed right and depends on degrees of freedom.\n",
        "Values must be non-negative and discrete."
      ]
    },
    {
      "cell_type": "markdown",
      "metadata": {
        "id": "1f6e7eac"
      },
      "source": [
        "**What is the Chi-square goodness of fit test, and how is it applied?**\n",
        "\n",
        "It tests if observed categorical data fits an expected distribution.\n",
        "Compare observed and expected frequencies using the chi-square formula.\n",
        "Large differences indicate poor fit, leading to rejection of H₀.\n",
        "Used in surveys and genetic experiments."
      ]
    },
    {
      "cell_type": "markdown",
      "metadata": {
        "id": "f87cf2c0"
      },
      "source": [
        "**What is the F-distribution, and when is it used in hypothesis testing?**\n",
        "\n",
        "The F-distribution is used to compare two variances.\n",
        "It’s right-skewed and based on two degrees of freedom.\n",
        "Used in ANOVA and F-tests.\n",
        "Helps determine if groups have different variability."
      ]
    },
    {
      "cell_type": "markdown",
      "metadata": {
        "id": "66206a59"
      },
      "source": [
        "**What is an ANOVA test, and what are its assumptions?**\n",
        "\n",
        "ANOVA (Analysis of Variance) compares means of 3 or more groups.\n",
        "Assumes independence, normality, and equal variances.\n",
        "It uses the F-distribution to test significance.\n",
        "Rejecting H₀ means at least one group mean differs."
      ]
    },
    {
      "cell_type": "markdown",
      "metadata": {
        "id": "b6bfa35f"
      },
      "source": [
        "**What are the different types of ANOVA tests?**\n",
        "\n",
        "One-way ANOVA compares means across one factor.\n",
        "Two-way ANOVA considers two factors and their interaction.\n",
        "Repeated measures ANOVA handles dependent (paired) data.\n",
        "Each test type suits different experiment setups."
      ]
    },
    {
      "cell_type": "markdown",
      "metadata": {
        "id": "94b83d9b"
      },
      "source": [
        "**What is the F-test, and how does it relate to hypothesis testing?**\n",
        "\n",
        "The F-test compares two variances or models.\n",
        "Used in ANOVA to test if group means differ significantly.\n",
        "A large F-value may lead to rejecting the null hypothesis.\n",
        "It's key in model comparison and regression analysis."
      ]
    }
  ]
}