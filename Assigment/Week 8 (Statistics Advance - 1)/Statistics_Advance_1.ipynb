{
  "nbformat": 4,
  "nbformat_minor": 0,
  "metadata": {
    "colab": {
      "provenance": []
    },
    "kernelspec": {
      "name": "python3",
      "display_name": "Python 3"
    },
    "language_info": {
      "name": "python"
    }
  },
  "cells": [
    {
      "cell_type": "markdown",
      "source": [
        "# Statistics Advance - 1 Solution"
      ],
      "metadata": {
        "id": "IDze3laTXk2Q"
      }
    },
    {
      "cell_type": "markdown",
      "metadata": {
        "id": "52ea0a97"
      },
      "source": [
        "### Q1: What is a random variable in probability theory?"
      ]
    },
    {
      "cell_type": "markdown",
      "metadata": {
        "id": "9965d0e1"
      },
      "source": [
        "A random variable is a numerical outcome of a random phenomenon. It assigns a real number to each outcome in a sample space. There are two types: discrete (finite/countable outcomes) and continuous (infinite/unmeasurable outcomes)."
      ]
    },
    {
      "cell_type": "markdown",
      "metadata": {
        "id": "ce17ccf7"
      },
      "source": [
        "### Q2: What are the types of random variables?"
      ]
    },
    {
      "cell_type": "markdown",
      "metadata": {
        "id": "a556a187"
      },
      "source": [
        "There are two main types of random variables:\n",
        "\n",
        "1. Discrete Random Variable: Takes on a finite or countably infinite set of values (e.g., number of heads in coin tosses).\n",
        "2. Continuous Random Variable: Takes on an uncountably infinite number of values (e.g., time, temperature)."
      ]
    },
    {
      "cell_type": "markdown",
      "metadata": {
        "id": "85b68862"
      },
      "source": [
        "### Q3: What is the difference between discrete and continuous distributions?"
      ]
    },
    {
      "cell_type": "markdown",
      "metadata": {
        "id": "5021d8d0"
      },
      "source": [
        "Discrete distributions describe the probability of outcomes of a discrete random variable. Continuous distributions describe the probability over a range of values of a continuous random variable using a density function."
      ]
    },
    {
      "cell_type": "markdown",
      "metadata": {
        "id": "21e40662"
      },
      "source": [
        "### Q4: What are probability distribution functions (PDF)?"
      ]
    },
    {
      "cell_type": "markdown",
      "metadata": {
        "id": "6734e6d5"
      },
      "source": [
        "For continuous variables, a Probability Density Function (PDF) describes the likelihood of a random variable falling within a range of values. The area under the curve of a PDF over an interval gives the probability of that interval."
      ]
    },
    {
      "cell_type": "markdown",
      "metadata": {
        "id": "04e52ddf"
      },
      "source": [
        "### Q5: How do cumulative distribution functions (CDF) differ from probability distribution functions (PDF)?"
      ]
    },
    {
      "cell_type": "markdown",
      "metadata": {
        "id": "3c453b4a"
      },
      "source": [
        "A CDF gives the probability that a random variable is less than or equal to a certain value, i.e., F(x) = P(X ≤ x). It is the integral (for continuous) or sum (for discrete) of the PDF up to x."
      ]
    },
    {
      "cell_type": "markdown",
      "metadata": {
        "id": "c2359030"
      },
      "source": [
        "### Q6: What is a discrete uniform distribution?"
      ]
    },
    {
      "cell_type": "markdown",
      "metadata": {
        "id": "a90eeb03"
      },
      "source": [
        "A discrete uniform distribution is one where each outcome in a finite set has the same probability. Example: rolling a fair die (each face has 1/6 probability)."
      ]
    },
    {
      "cell_type": "markdown",
      "metadata": {
        "id": "fc1d173c"
      },
      "source": [
        "### Q7: What are the key properties of a Bernoulli distribution?"
      ]
    },
    {
      "cell_type": "markdown",
      "metadata": {
        "id": "6d56b655"
      },
      "source": [
        "A Bernoulli distribution models a single trial with two outcomes: success (1) with probability p, and failure (0) with probability 1-p. It's the simplest discrete distribution."
      ]
    },
    {
      "cell_type": "markdown",
      "metadata": {
        "id": "22d4f84a"
      },
      "source": [
        "### Q8: What is the binomial distribution, and how is it used in probability?"
      ]
    },
    {
      "cell_type": "markdown",
      "metadata": {
        "id": "a994be50"
      },
      "source": [
        "The binomial distribution models the number of successes in a fixed number of independent Bernoulli trials. It is defined by parameters n (number of trials) and p (success probability)."
      ]
    },
    {
      "cell_type": "markdown",
      "metadata": {
        "id": "a75864e5"
      },
      "source": [
        "### Q9: What is the Poisson distribution and where is it applied?"
      ]
    },
    {
      "cell_type": "markdown",
      "metadata": {
        "id": "6c145f40"
      },
      "source": [
        "The Poisson distribution models the number of events happening in a fixed interval of time or space, given a known average rate (λ). It is used for rare event counts like calls per hour or decay of particles."
      ]
    },
    {
      "cell_type": "markdown",
      "metadata": {
        "id": "b9ee2ebe"
      },
      "source": [
        "### Q10: What is a continuous uniform distribution?"
      ]
    },
    {
      "cell_type": "markdown",
      "metadata": {
        "id": "bc022f3b"
      },
      "source": [
        "A continuous uniform distribution is where all outcomes in a continuous interval [a, b] are equally likely. The PDF is constant over [a, b] and zero elsewhere."
      ]
    },
    {
      "cell_type": "markdown",
      "metadata": {
        "id": "2a83d026"
      },
      "source": [
        "### Q11: What are the characteristics of a normal distribution?"
      ]
    },
    {
      "cell_type": "markdown",
      "metadata": {
        "id": "b0ff859f"
      },
      "source": [
        "A normal distribution is symmetric, bell-shaped, and characterized by its mean (μ) and standard deviation (σ). The mean, median, and mode are all equal. It follows the empirical rule: ~68% of data within 1σ, ~95% within 2σ, ~99.7% within 3σ."
      ]
    },
    {
      "cell_type": "markdown",
      "metadata": {
        "id": "b67a4ad4"
      },
      "source": [
        "### Q12: What is the standard normal distribution, and why is it important?"
      ]
    },
    {
      "cell_type": "markdown",
      "metadata": {
        "id": "726272ce"
      },
      "source": [
        "The standard normal distribution is a special case of the normal distribution with a mean of 0 and standard deviation of 1. It is used to calculate probabilities and compare values from different normal distributions using Z-scores."
      ]
    },
    {
      "cell_type": "markdown",
      "metadata": {
        "id": "c24f0597"
      },
      "source": [
        "### Q13: What is the Central Limit Theorem (CLT), and why is it critical in statistics?"
      ]
    },
    {
      "cell_type": "markdown",
      "metadata": {
        "id": "c3a9be68"
      },
      "source": [
        "The CLT states that the sampling distribution of the sample mean approaches a normal distribution as the sample size increases, regardless of the original population's distribution. This enables the use of normal distribution in inferential statistics."
      ]
    },
    {
      "cell_type": "markdown",
      "metadata": {
        "id": "5b7fcb42"
      },
      "source": [
        "### Q14: How does the Central Limit Theorem relate to the normal distribution?"
      ]
    },
    {
      "cell_type": "markdown",
      "metadata": {
        "id": "70fe47bc"
      },
      "source": [
        "The CLT ensures that sample means from any distribution will tend to follow a normal distribution as sample size grows, allowing us to apply techniques that assume normality even when the underlying data isn't normally distributed."
      ]
    },
    {
      "cell_type": "markdown",
      "metadata": {
        "id": "87c1678e"
      },
      "source": [
        "### Q15: What is the application of Z statistics in hypothesis testing?"
      ]
    },
    {
      "cell_type": "markdown",
      "metadata": {
        "id": "33c3412f"
      },
      "source": [
        "Z statistics are used in hypothesis testing to determine how far a sample mean is from the population mean in terms of standard errors. It helps in deciding whether to reject the null hypothesis."
      ]
    },
    {
      "cell_type": "markdown",
      "metadata": {
        "id": "80f55261"
      },
      "source": [
        "### Q16: How do you calculate a Z-score, and what does it represent?"
      ]
    },
    {
      "cell_type": "markdown",
      "metadata": {
        "id": "795ca713"
      },
      "source": [
        "Z-score = (X - μ) / σ, where X is the value, μ is the mean, and σ is the standard deviation. It represents how many standard deviations a data point is from the mean."
      ]
    },
    {
      "cell_type": "markdown",
      "metadata": {
        "id": "e10a1fb7"
      },
      "source": [
        "### Q17: What are point estimates and interval estimates in statistics?"
      ]
    },
    {
      "cell_type": "markdown",
      "metadata": {
        "id": "02009187"
      },
      "source": [
        "A point estimate provides a single value as an estimate of a population parameter. An interval estimate gives a range (usually a confidence interval) within which the parameter is expected to lie."
      ]
    },
    {
      "cell_type": "markdown",
      "metadata": {
        "id": "44189581"
      },
      "source": [
        "### Q18: What is the significance of confidence intervals in statistical analysis?"
      ]
    },
    {
      "cell_type": "markdown",
      "metadata": {
        "id": "44760e06"
      },
      "source": [
        "Confidence intervals provide a range of values within which the true population parameter is likely to fall. They indicate the reliability of an estimate and are used in inferential statistics."
      ]
    },
    {
      "cell_type": "markdown",
      "metadata": {
        "id": "2bc24d6f"
      },
      "source": [
        "### Q19: What is the relationship between a Z-score and a confidence interval?"
      ]
    },
    {
      "cell_type": "markdown",
      "metadata": {
        "id": "fe781a99"
      },
      "source": [
        "Z-scores define the boundaries of a confidence interval in a standard normal distribution. For example, a 95% confidence interval corresponds to Z-scores of ±1.96."
      ]
    },
    {
      "cell_type": "markdown",
      "metadata": {
        "id": "0292e786"
      },
      "source": [
        "### Q20: How are Z-scores used to compare different distributions?"
      ]
    },
    {
      "cell_type": "markdown",
      "metadata": {
        "id": "c8937948"
      },
      "source": [
        "Z-scores standardize values from different distributions, allowing direct comparison by showing how far each value is from its respective mean in terms of standard deviations."
      ]
    },
    {
      "cell_type": "markdown",
      "metadata": {
        "id": "96e1a76c"
      },
      "source": [
        "### Q21: What are the assumptions for applying the Central Limit Theorem?"
      ]
    },
    {
      "cell_type": "markdown",
      "metadata": {
        "id": "fe88be62"
      },
      "source": [
        "The main assumptions are: (1) samples must be independent and identically distributed (i.i.d.), (2) the sample size should be sufficiently large (usually n ≥ 30), (3) population variance should be finite."
      ]
    },
    {
      "cell_type": "markdown",
      "metadata": {
        "id": "4d6c9829"
      },
      "source": [
        "### Q22: What is the concept of expected value in a probability distribution?"
      ]
    },
    {
      "cell_type": "markdown",
      "metadata": {
        "id": "960c3ae0"
      },
      "source": [
        "The expected value is the long-run average value of repetitions of the experiment. For a discrete variable: E(X) = Σ[x * P(x)], and for a continuous variable, it's the integral of x * f(x) dx over the domain."
      ]
    },
    {
      "cell_type": "markdown",
      "metadata": {
        "id": "5aaf2b74"
      },
      "source": [
        "### Q23: How does a probability distribution relate to the expected outcome of a random variable?"
      ]
    },
    {
      "cell_type": "markdown",
      "metadata": {
        "id": "6c24704c"
      },
      "source": [
        "A probability distribution describes how probabilities are assigned to outcomes, and the expected value is a weighted average of all outcomes based on these probabilities."
      ]
    }
  ]
}