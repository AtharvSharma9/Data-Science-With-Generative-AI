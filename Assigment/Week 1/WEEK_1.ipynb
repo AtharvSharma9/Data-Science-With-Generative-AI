{
  "nbformat": 4,
  "nbformat_minor": 0,
  "metadata": {
    "colab": {
      "provenance": []
    },
    "kernelspec": {
      "name": "python3",
      "display_name": "Python 3"
    },
    "language_info": {
      "name": "python"
    }
  },
  "cells": [
    {
      "cell_type": "markdown",
      "source": [
        "**[Here the github link of the Assigment](https://)**"
      ],
      "metadata": {
        "id": "EtgtlXvOHPza"
      }
    },
    {
      "cell_type": "markdown",
      "source": [
        "1. What is Python, and why is it popular?\n",
        "\n",
        "    ->Python is a high-level, interpreted programming language known for its simple syntax and readability.\n",
        "\n",
        "    ->It’s popular because it’s easy to learn, has a vast library ecosystem, supports multiple programming paradigms, and is widely used in web development, data science, AI, automation, and more."
      ],
      "metadata": {
        "id": "01IGYJvIWvjx"
      }
    },
    {
      "cell_type": "markdown",
      "source": [
        "2. What is an interpreter in Python?\n",
        "\n",
        "    ->An interpreter in Python is a program that reads and executes Python code line by line, converting it into machine code at runtime.\n",
        "\n",
        "    ->This allows for quick testing and debugging, but can be slower than compiled languages."
      ],
      "metadata": {
        "id": "fgx5DVqtXk9-"
      }
    },
    {
      "cell_type": "markdown",
      "source": [
        "3. What are pre-defined keywords in Python?\n",
        "\n",
        "    ->Pre-defined keywords in Python are reserved words that have special meanings and purposes in the language. You cannot use them as variable names.\n",
        "\n",
        "    ->Examples include:\n",
        "    if, else, for, while, def, class, import, True, False, etc.\n",
        "\n",
        "    ->Python has 35+ keywords."
      ],
      "metadata": {
        "id": "bYE6O4d9X_Ta"
      }
    },
    {
      "cell_type": "markdown",
      "source": [
        "4. Can keywords be used as variable names?\n",
        "\n",
        "    ->No, keywords cannot be used as variable names in Python because they are reserved for specific syntax or functions in the language."
      ],
      "metadata": {
        "id": "IdDdH-Y2YbMs"
      }
    },
    {
      "cell_type": "markdown",
      "source": [
        "5. What is mutability in Python?\n",
        "\n",
        "  ->Mutability in Python refers to whether an object's value can be changed after it's created.\n",
        "  Mutable objects: Can be changed (e.g., list, dict, set)\n",
        "  Immutable objects: Cannot be changed (e.g., int, float, str, tuple)"
      ],
      "metadata": {
        "id": "juCKaEapYu3j"
      }
    },
    {
      "cell_type": "markdown",
      "source": [
        "6. Why are lists mutable, but tuples are immutable?\n",
        "\n",
        "  ->Lists are mutable because they are designed to store collections that may need to change—like adding, removing, or updating items.\n",
        "\n",
        "  ->Tuples are immutable to ensure data safety and integrity, especially when storing fixed sets of values or using them as keys in dictionaries (which require hashable types)."
      ],
      "metadata": {
        "id": "IuIb8a8gZEUG"
      }
    },
    {
      "cell_type": "markdown",
      "source": [
        "7. What is the difference between “==” and “is” operators in Python?\n",
        "\n",
        "  ->== checks value equality → whether two variables have the same content.\n",
        "\n",
        "  ->is checks identity → whether two variables point to the same object in memory.\n",
        "\n",
        "  Example Code:\n",
        "  "
      ],
      "metadata": {
        "id": "NBztXj7ha5hr"
      }
    },
    {
      "cell_type": "code",
      "source": [
        "a = [1, 2, 3]\n",
        "b = [1, 2, 3]\n",
        "\n",
        "print(a == b)  # ✅ True (same values)\n",
        "print(a is b)  # ❌ False (different memory locations)\n",
        "\n",
        "c = a\n",
        "print(a is c)  # ✅ True (same object)\n"
      ],
      "metadata": {
        "colab": {
          "base_uri": "https://localhost:8080/"
        },
        "id": "ojc9tbo4bWDN",
        "outputId": "50023fb4-45c2-40f2-dbc0-c7d1cc7715d5"
      },
      "execution_count": null,
      "outputs": [
        {
          "output_type": "stream",
          "name": "stdout",
          "text": [
            "True\n",
            "False\n",
            "True\n"
          ]
        }
      ]
    },
    {
      "cell_type": "markdown",
      "source": [
        "8. What are logical operators in Python?\n",
        "\n",
        "  ->Logical operators in Python are used to combine conditional statements. They return True or False based on the logic.\n",
        "\n",
        "  ->The 3 main logical operators are:\n",
        "\n",
        "  1. and – Returns True if both conditions are true\n",
        "\n",
        "  2. or – Returns True if at least one condition is true\n",
        "\n",
        "  3. not – Reverses the result (i.e., True becomes False)"
      ],
      "metadata": {
        "id": "KztIlLXlbZnW"
      }
    },
    {
      "cell_type": "markdown",
      "source": [
        "9. What is type casting in Python?\n",
        "\n",
        "  ->Type casting in Python means converting one data type to another, like from int to float, str to int, etc.\n",
        "\n",
        "  ->Common functions for type casting:\n",
        "\n",
        "  1. int() → Converts to integer\n",
        "\n",
        "  2. float() → Converts to float\n",
        "\n",
        "  3. str() → Converts to string\n",
        "\n",
        "  4. bool() → Converts to boolean"
      ],
      "metadata": {
        "id": "HbZRkE_Pb1-R"
      }
    },
    {
      "cell_type": "markdown",
      "source": [
        "10. What is the difference between implicit and explicit type casting?\n",
        "\n",
        "  -> The difference between implicit and explicit type casting in Python:\n",
        "\n",
        "  🔹 Implicit Type Casting\n",
        "  1. Automatically done by Python\n",
        "\n",
        "  2. Happens when combining compatible types\n",
        "\n",
        "  3. No data loss expected\n",
        "\n",
        "  🔹 Explicit Type Casting\n",
        "  1. Manually done by the programmer using functions like int(), float(), str()\n",
        "\n",
        "  2. Useful when automatic conversion doesn’t happen"
      ],
      "metadata": {
        "id": "YE7hgXF6cUy0"
      }
    },
    {
      "cell_type": "markdown",
      "source": [
        "11. What is the purpose of conditional statements in Python?\n",
        "\n",
        "  -> Conditional statements in Python are used to make decisions based on certain conditions. They allow your program to execute specific blocks of code only when certain conditions are met.\n",
        "\n",
        "  -> Common conditional statements:\n",
        "\n",
        "  1. if – Executes a block of code if the condition is true.\n",
        "\n",
        "  2. elif – (Else If) Used to check multiple conditions.\n",
        "\n",
        "  3. else – Executes a block of code when none of the previous conditions are true."
      ],
      "metadata": {
        "id": "Wp0MLsogcxz_"
      }
    },
    {
      "cell_type": "markdown",
      "source": [
        "12. How does the elif statement work?\n",
        "\n",
        "  -> The elif (short for \"else if\") statement is used to check additional conditions if the previous if condition is false. It allows you to test multiple conditions in sequence.\n",
        "\n",
        "  -> **How it works:**\n",
        "  1. If the if condition is false, Python moves to the elif condition (if present) and checks it.\n",
        "\n",
        "  2. You can have multiple elif statements to check more than one condition.\n",
        "\n",
        "  3. The first condition that evaluates to True will execute its corresponding block of code, and the rest will be skipped.\n",
        "\n",
        "  **Example Code:**"
      ],
      "metadata": {
        "id": "Dle7GfysdNAa"
      }
    },
    {
      "cell_type": "code",
      "source": [
        "x = 15\n",
        "\n",
        "if x < 10:\n",
        "    print(\"x is less than 10\")\n",
        "elif x == 15:\n",
        "    print(\"x is 15\")  # This will execute\n",
        "elif x > 20:\n",
        "    print(\"x is greater than 20\")\n",
        "else:\n",
        "    print(\"x is something else\")\n"
      ],
      "metadata": {
        "id": "YlZ2jAV1dqP1"
      },
      "execution_count": null,
      "outputs": []
    },
    {
      "cell_type": "markdown",
      "source": [
        "13. What is the difference between for and while loops?\n",
        "\n",
        "  -> The difference between for and while loops in Python lies in how they iterate over a sequence or condition.\n",
        "\n",
        "  🔹 for Loop:\n",
        "  -> Used when the number of iterations is known beforehand or when iterating over a sequence (like a list, string, or range).\n",
        "\n",
        "  -> It iterates over a fixed set of elements or a range of values.\n",
        "\n",
        "  🔹 while Loop:\n",
        "  -> Used when the number of iterations is not known beforehand and the loop runs as long as a condition is true.\n",
        "\n",
        "  -> It continues looping until the condition becomes False.\n",
        "\n",
        "  **Syntax:**\n",
        "  \n",
        "  while condition:\n",
        "\n",
        "  for item in sequence:\n"
      ],
      "metadata": {
        "id": "upl47Sd3dslO"
      }
    },
    {
      "cell_type": "markdown",
      "source": [
        "14.  Describe a scenario where a while loop is more suitable than a for loop.\n",
        "\n",
        "  -> A while loop is more suitable than a for loop when the number of iterations is unknown at the start, and you need the loop to continue until a certain condition is met.\n",
        "\n",
        "  **Scenario: User Input Validation**\n",
        "\n",
        "  Suppose you want to repeatedly ask the user to enter a valid number until they provide it. The number of attempts is unknown, but the loop will continue as long as the input is invalid.\n",
        "\n",
        "  Why a while loop?\n",
        "\n",
        "  -> You don't know how many attempts the user will need to enter a valid number, so the loop should continue as long as the condition (not user_input.isdigit()) is true.\n",
        "\n",
        "  -> The loop keeps running until the condition is met (i.e., a valid number is entered), which is exactly what a while loop is designed for.\n",
        "\n",
        "  **Example:**"
      ],
      "metadata": {
        "id": "11F5z8-3exrV"
      }
    },
    {
      "cell_type": "code",
      "source": [
        "user_input = \"\"\n",
        "while not user_input.isdigit():\n",
        "    user_input = input(\"Please enter a valid number: \")\n",
        "\n",
        "print(f\"Valid number entered: {user_input}\")\n"
      ],
      "metadata": {
        "id": "wx5eOUBcfV8C"
      },
      "execution_count": null,
      "outputs": []
    },
    {
      "cell_type": "markdown",
      "source": [
        "# Practical Questions"
      ],
      "metadata": {
        "id": "Py2SVMV_fYZh"
      }
    },
    {
      "cell_type": "code",
      "source": [
        "# 1. Write a Python program to print \"Hello, World!.\n",
        "\n",
        "print(\"Hello, World!\")\n"
      ],
      "metadata": {
        "colab": {
          "base_uri": "https://localhost:8080/"
        },
        "id": "PHhZLTr7BmE9",
        "outputId": "7aebe213-7731-477d-bd40-b89445110bd7"
      },
      "execution_count": null,
      "outputs": [
        {
          "output_type": "stream",
          "name": "stdout",
          "text": [
            "Hello, World!\n"
          ]
        }
      ]
    },
    {
      "cell_type": "code",
      "source": [
        "\n",
        "# 2. Write a Python program that displays your name and age.\n",
        "\n",
        "name = \"Atharv Sharma\"\n",
        "age = 20\n",
        "\n",
        "print(\"Name:\", name)\n",
        "print(\"Age:\", age)\n"
      ],
      "metadata": {
        "colab": {
          "base_uri": "https://localhost:8080/"
        },
        "id": "IoGGfcvqBvPO",
        "outputId": "d5c13255-47ff-4f8d-b88d-466ac74112d2"
      },
      "execution_count": null,
      "outputs": [
        {
          "output_type": "stream",
          "name": "stdout",
          "text": [
            "Name: Atharv Sharma\n",
            "Age: 20\n"
          ]
        }
      ]
    },
    {
      "cell_type": "code",
      "source": [
        "# 3. Write code to print all the pre-defined keywords in Python using the keyword library.\n",
        "\n",
        "import keyword\n",
        "\n",
        "# Get the list of all Python keywords\n",
        "keywords = keyword.kwlist\n",
        "\n",
        "# Print them\n",
        "print(\"Python Keywords:\")\n",
        "for kw in keywords:\n",
        "    print(kw)\n"
      ],
      "metadata": {
        "colab": {
          "base_uri": "https://localhost:8080/"
        },
        "id": "EbvtFJU0B9Rj",
        "outputId": "9a005b28-699d-4bb2-a384-d38faa5efa1d"
      },
      "execution_count": null,
      "outputs": [
        {
          "output_type": "stream",
          "name": "stdout",
          "text": [
            "Python Keywords:\n",
            "False\n",
            "None\n",
            "True\n",
            "and\n",
            "as\n",
            "assert\n",
            "async\n",
            "await\n",
            "break\n",
            "class\n",
            "continue\n",
            "def\n",
            "del\n",
            "elif\n",
            "else\n",
            "except\n",
            "finally\n",
            "for\n",
            "from\n",
            "global\n",
            "if\n",
            "import\n",
            "in\n",
            "is\n",
            "lambda\n",
            "nonlocal\n",
            "not\n",
            "or\n",
            "pass\n",
            "raise\n",
            "return\n",
            "try\n",
            "while\n",
            "with\n",
            "yield\n"
          ]
        }
      ]
    },
    {
      "cell_type": "code",
      "source": [
        "# 4. Write a program that checks if a given word is a Python keyword.\n",
        "\n",
        "import keyword\n",
        "\n",
        "# Input from user\n",
        "word = input(\"Enter a word to check if it's a Python keyword: \")\n",
        "\n",
        "# Check and display result\n",
        "if keyword.iskeyword(word):\n",
        "    print(f\"'{word}' is a Python keyword.\")\n",
        "else:\n",
        "    print(f\"'{word}' is NOT a Python keyword.\")\n"
      ],
      "metadata": {
        "colab": {
          "base_uri": "https://localhost:8080/"
        },
        "id": "jAa_mC94CIlz",
        "outputId": "8c9c2a64-a420-4fb0-d8b0-415c4dbb3696"
      },
      "execution_count": null,
      "outputs": [
        {
          "output_type": "stream",
          "name": "stdout",
          "text": [
            "Enter a word to check if it's a Python keyword: with\n",
            "'with' is a Python keyword.\n"
          ]
        }
      ]
    },
    {
      "cell_type": "code",
      "source": [
        "# 5. Create a list and tuple in Python, and demonstrate how attempting to change an element works differently for each.\n",
        "\n",
        "# Creating a list\n",
        "my_list = [10, 20, 30]\n",
        "print(\"Original list:\", my_list)\n",
        "\n",
        "# Changing an element in the list\n",
        "my_list[1] = 200\n",
        "print(\"Modified list:\", my_list)\n",
        "\n",
        "# Creating a tuple\n",
        "my_tuple = (10, 20, 30)\n",
        "print(\"Original tuple:\", my_tuple)\n",
        "\n",
        "# Attempting to change an element in the tuple (this will raise an error)\n",
        "try:\n",
        "    my_tuple[1] = 200\n",
        "except TypeError as e:\n",
        "    print(\"Error when trying to modify tuple:\", e)\n"
      ],
      "metadata": {
        "colab": {
          "base_uri": "https://localhost:8080/"
        },
        "id": "KGWgCGeZCVX6",
        "outputId": "3a5de861-83ff-4f67-b5a7-b94fe8ff75a8"
      },
      "execution_count": null,
      "outputs": [
        {
          "output_type": "stream",
          "name": "stdout",
          "text": [
            "Original list: [10, 20, 30]\n",
            "Modified list: [10, 200, 30]\n",
            "Original tuple: (10, 20, 30)\n",
            "Error when trying to modify tuple: 'tuple' object does not support item assignment\n"
          ]
        }
      ]
    },
    {
      "cell_type": "code",
      "source": [
        "# 6. Write a function to demonstrate the behavior of mutable and immutable arguments.\n",
        "\n",
        "# Function to demonstrate behavior\n",
        "def modify_args(a, b):\n",
        "    print(\"\\nInside function before modification:\")\n",
        "    print(\"a (immutable):\", a)\n",
        "    print(\"b (mutable):\", b)\n",
        "\n",
        "    a += 10          # modifies local copy if 'a' is immutable\n",
        "    b.append(100)    # modifies original list since 'b' is mutable\n",
        "\n",
        "    print(\"\\nInside function after modification:\")\n",
        "    print(\"a (immutable):\", a)\n",
        "    print(\"b (mutable):\", b)\n",
        "\n",
        "# Immutable argument (integer)\n",
        "x = 5\n",
        "\n",
        "# Mutable argument (list)\n",
        "y = [1, 2, 3]\n",
        "\n",
        "# Call function\n",
        "print(\"Before function call:\")\n",
        "print(\"x:\", x)\n",
        "print(\"y:\", y)\n",
        "\n",
        "modify_args(x, y)\n",
        "\n",
        "print(\"\\nAfter function call:\")\n",
        "print(\"x:\", x)  # remains unchanged\n",
        "print(\"y:\", y)  # changed due to list mutability\n"
      ],
      "metadata": {
        "id": "sjr10h6aCpLF"
      },
      "execution_count": null,
      "outputs": []
    },
    {
      "cell_type": "code",
      "source": [
        "# 7. Write a program that performs basic arithmetic operations on two user-input numbers.\n",
        "\n",
        "# Get input from user\n",
        "num1 = float(input(\"Enter the first number: \"))\n",
        "num2 = float(input(\"Enter the second number: \"))\n",
        "\n",
        "# Perform arithmetic operations\n",
        "print(\"\\nResults:\")\n",
        "print(\"Addition:\", num1 + num2)\n",
        "print(\"Subtraction:\", num1 - num2)\n",
        "print(\"Multiplication:\", num1 * num2)\n",
        "\n",
        "# Check for division by zero\n",
        "if num2 != 0:\n",
        "    print(\"Division:\", num1 / num2)\n",
        "    print(\"Modulus:\", num1 % num2)\n",
        "else:\n",
        "    print(\"Division: Error (cannot divide by zero)\")\n",
        "    print(\"Modulus: Error (cannot perform modulus with zero)\")\n"
      ],
      "metadata": {
        "id": "yWBeXGIgC3SW"
      },
      "execution_count": null,
      "outputs": []
    },
    {
      "cell_type": "code",
      "source": [
        "# 8. Write a program to demonstrate the use of logical operators\n",
        "\n",
        "# Logical Operators Demo\n",
        "\n",
        "# Inputs\n",
        "a = True\n",
        "b = False\n",
        "\n",
        "print(\"a =\", a)\n",
        "print(\"b =\", b)\n",
        "\n",
        "# Logical AND\n",
        "print(\"\\na and b =\", a and b)  # True only if both are True\n",
        "\n",
        "# Logical OR\n",
        "print(\"a or b =\", a or b)      # True if at least one is True\n",
        "\n",
        "# Logical NOT\n",
        "print(\"not a =\", not a)        # Reverses the value\n",
        "print(\"not b =\", not b)\n"
      ],
      "metadata": {
        "id": "l_bil9vADC0O"
      },
      "execution_count": null,
      "outputs": []
    },
    {
      "cell_type": "code",
      "source": [
        "# 9.  Write a Python program to convert user input from string to integer, float, and boolean types.\n",
        "\n",
        "# Get input from user\n",
        "user_input = input(\"Enter a value: \")\n",
        "\n",
        "# Convert to integer (if possible)\n",
        "try:\n",
        "    int_value = int(user_input)\n",
        "    print(\"Integer:\", int_value)\n",
        "except ValueError:\n",
        "    print(\"Cannot convert to integer.\")\n",
        "\n",
        "# Convert to float (if possible)\n",
        "try:\n",
        "    float_value = float(user_input)\n",
        "    print(\"Float:\", float_value)\n",
        "except ValueError:\n",
        "    print(\"Cannot convert to float.\")\n",
        "\n",
        "# Convert to boolean\n",
        "# For boolean conversion: any non-empty string is True, empty string is False\n",
        "bool_value = bool(user_input)\n",
        "print(\"Boolean:\", bool_value)\n"
      ],
      "metadata": {
        "id": "9xFQefgbDJDN"
      },
      "execution_count": null,
      "outputs": []
    },
    {
      "cell_type": "code",
      "source": [
        "# 10. Write code to demonstrate type casting with list elements.\n",
        "\n",
        "# Original list with mixed types\n",
        "original_list = ['1', '2.5', 'True', '3']\n",
        "\n",
        "# Convert all elements to different types\n",
        "int_list = [int(x) if x.isdigit() else None for x in original_list]\n",
        "float_list = [float(x) if x.replace('.', '', 1).isdigit() else None for x in original_list]\n",
        "bool_list = [bool(x) for x in original_list]\n",
        "\n",
        "# Display the original and converted lists\n",
        "print(\"Original List:\", original_list)\n",
        "print(\"Converted to Integer List:\", int_list)\n",
        "print(\"Converted to Float List:\", float_list)\n",
        "print(\"Converted to Boolean List:\", bool_list)\n"
      ],
      "metadata": {
        "id": "miFy8k3fDV7v"
      },
      "execution_count": null,
      "outputs": []
    },
    {
      "cell_type": "code",
      "source": [
        "# 11. Write a program that checks if a number is positive, negative, or zero.\n",
        "\n",
        "# Get input from user\n",
        "num = float(input(\"Enter a number: \"))\n",
        "\n",
        "# Check if the number is positive, negative, or zero\n",
        "if num > 0:\n",
        "    print(f\"{num} is a positive number.\")\n",
        "elif num < 0:\n",
        "    print(f\"{num} is a negative number.\")\n",
        "else:\n",
        "    print(f\"{num} is zero.\")\n"
      ],
      "metadata": {
        "id": "J6iUaEqGDb5w"
      },
      "execution_count": null,
      "outputs": []
    },
    {
      "cell_type": "code",
      "source": [
        "# 12.  Write a for loop to print numbers from 1 to 10\n",
        "\n",
        "# Using a for loop to print numbers from 1 to 10\n",
        "for i in range(1, 11):\n",
        "    print(i)\n"
      ],
      "metadata": {
        "id": "XN54infNDjYg"
      },
      "execution_count": null,
      "outputs": []
    },
    {
      "cell_type": "code",
      "source": [
        "# 13. Write a Python program to find the sum of all even numbers between 1 and 50.\n",
        "\n",
        "# Initialize sum variable\n",
        "sum_even = 0\n",
        "\n",
        "# Loop through numbers from 1 to 50\n",
        "for i in range(1, 51):\n",
        "    if i % 2 == 0:  # Check if the number is even\n",
        "        sum_even += i  # Add the even number to sum\n",
        "\n",
        "# Print the sum\n",
        "print(\"Sum of all even numbers between 1 and 50:\", sum_even)\n"
      ],
      "metadata": {
        "id": "uIn0Hf5DDr8h"
      },
      "execution_count": null,
      "outputs": []
    },
    {
      "cell_type": "code",
      "source": [
        "# 14. Write a program to reverse a string using a while loop.\n",
        "\n",
        "# Get input string from user\n",
        "input_string = input(\"Enter a string: \")\n",
        "\n",
        "# Initialize variables\n",
        "reversed_string = \"\"\n",
        "index = len(input_string) - 1\n",
        "\n",
        "# Use a while loop to reverse the string\n",
        "while index >= 0:\n",
        "    reversed_string += input_string[index]  # Add character to reversed string\n",
        "    index -= 1  # Move to the previous character\n",
        "\n",
        "# Print the reversed string\n",
        "print(\"Reversed string:\", reversed_string)\n"
      ],
      "metadata": {
        "id": "gb1OdMZ6D14S"
      },
      "execution_count": null,
      "outputs": []
    },
    {
      "cell_type": "code",
      "source": [
        "# 15. Write a Python program to calculate the factorial of a number provided by the user using a while loop.\n",
        "\n",
        "# Get input from the user\n",
        "num = int(input(\"Enter a number to calculate its factorial: \"))\n",
        "\n",
        "# Initialize variables\n",
        "factorial = 1\n",
        "count = 1\n",
        "\n",
        "# Use a while loop to calculate factorial\n",
        "while count <= num:\n",
        "    factorial *= count  # Multiply factorial by the current count\n",
        "    count += 1  # Increment count\n",
        "\n",
        "# Print the result\n",
        "print(f\"The factorial of {num} is {factorial}\")\n"
      ],
      "metadata": {
        "colab": {
          "base_uri": "https://localhost:8080/"
        },
        "id": "2Q85bbRYD9pT",
        "outputId": "cdb62ad0-7a70-48f1-fa49-00bea6c3d6f3"
      },
      "execution_count": null,
      "outputs": [
        {
          "output_type": "stream",
          "name": "stdout",
          "text": [
            "Enter a number to calculate its factorial: 5\n",
            "The factorial of 5 is 120\n"
          ]
        }
      ]
    }
  ]
}