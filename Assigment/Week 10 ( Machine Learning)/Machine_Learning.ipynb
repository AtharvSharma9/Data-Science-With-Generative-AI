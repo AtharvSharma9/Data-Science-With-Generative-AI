{
  "nbformat": 4,
  "nbformat_minor": 0,
  "metadata": {
    "colab": {
      "provenance": []
    },
    "kernelspec": {
      "name": "python3",
      "display_name": "Python 3"
    },
    "language_info": {
      "name": "python"
    }
  },
  "cells": [
    {
      "cell_type": "markdown",
      "metadata": {
        "id": "15c0a967"
      },
      "source": [
        "**1. What is a parameter?**\n",
        "\n",
        "A parameter is a numerical value that defines a model's behavior. In statistics, it's a measurable factor like mean or standard deviation. In machine learning, it refers to internal values (like weights in neural networks) that the model learns during training."
      ]
    },
    {
      "cell_type": "markdown",
      "metadata": {
        "id": "458534be"
      },
      "source": [
        "**2. What is correlation?**\n",
        "\n",
        "Correlation measures the relationship between two variables. It shows how one variable changes in response to another. A correlation coefficient (between -1 and 1) indicates the strength and direction of this relationship."
      ]
    },
    {
      "cell_type": "markdown",
      "metadata": {
        "id": "cfdfbac2"
      },
      "source": [
        "**3. What does negative correlation mean?**\n",
        "\n",
        "Negative correlation means that as one variable increases, the other decreases. For example, if temperature goes up and sales of heaters go down, they have a negative correlation. The correlation coefficient is between 0 and -1."
      ]
    },
    {
      "cell_type": "markdown",
      "metadata": {
        "id": "f311f819"
      },
      "source": [
        "**4. Define Machine Learning. What are the main components in Machine Learning?**\n",
        "\n",
        "Machine Learning is a field where computers learn patterns from data without being explicitly programmed. The main components are: data, model, algorithm, loss function, and optimization method. These work together to make predictions or decisions."
      ]
    },
    {
      "cell_type": "markdown",
      "metadata": {
        "id": "c7240c38"
      },
      "source": [
        "**5. How does loss value help in determining whether the model is good or not?**\n",
        "\n",
        "The loss value shows how far the model's predictions are from actual results. A lower loss means better model performance. It helps in optimizing the model during training by guiding updates to the parameters."
      ]
    },
    {
      "cell_type": "markdown",
      "metadata": {
        "id": "ecb69d4a"
      },
      "source": [
        "**6. What are continuous and categorical variables?**\n",
        "\n",
        "Continuous variables can take any numeric value within a range (e.g., height, weight). Categorical variables represent categories or labels (e.g., gender, color), and they may be nominal (no order) or ordinal (ordered)."
      ]
    },
    {
      "cell_type": "markdown",
      "metadata": {
        "id": "2f31e131"
      },
      "source": [
        "**8. What do you mean by training and testing a dataset?**\n",
        "\n",
        "Training a dataset means using data to help the model learn patterns. Testing a dataset involves checking the model’s performance on unseen data to evaluate its accuracy and generalization ability."
      ]
    },
    {
      "cell_type": "markdown",
      "metadata": {
        "id": "0c39c16d"
      },
      "source": [
        "**9. What is sklearn.preprocessing?**\n",
        "\n",
        "sklearn.preprocessing is a module in Scikit-learn that offers tools for scaling, encoding, and transforming data. It helps prepare data for machine learning by standardizing features and converting categorical variables into numerical ones."
      ]
    },
    {
      "cell_type": "markdown",
      "metadata": {
        "id": "d4b9386d"
      },
      "source": [
        "**10. What is a Test set?**\n",
        "\n",
        "A test set is a portion of data reserved for evaluating a trained machine learning model. It helps check how well the model performs on new, unseen data, ensuring it generalizes well."
      ]
    },
    {
      "cell_type": "markdown",
      "metadata": {
        "id": "332e3150"
      },
      "source": [
        "**11. How do we split data for model fitting (training and testing) in Python?**\n",
        "\n",
        "We use train_test_split from sklearn.model_selection to split data. Typically, 70–80% goes to training and 20–30% to testing. Example:"
      ]
    },
    {
      "cell_type": "markdown",
      "metadata": {
        "id": "0ea66d57"
      },
      "source": [
        "**12. How do you approach a Machine Learning problem?**\n",
        "\n",
        "First, understand the problem and gather data. Then clean and preprocess the data. Next, select a suitable model, train it, and evaluate using metrics. Tune parameters, retrain if needed, and finally deploy or interpret results."
      ]
    },
    {
      "cell_type": "markdown",
      "metadata": {
        "id": "cfaec742"
      },
      "source": [
        "**13. Why do we have to perform EDA before fitting a model to the data?**\n",
        "\n",
        "Exploratory Data Analysis (EDA) helps understand data patterns, detect anomalies, and assess relationships between variables. It reveals data quality issues like missing values or outliers and ensures proper preprocessing before model training, leading to better performance."
      ]
    },
    {
      "cell_type": "markdown",
      "metadata": {
        "id": "57299909"
      },
      "source": [
        "**14. What is correlation?**\n",
        "\n",
        "Correlation measures the strength and direction of a relationship between two variables. It’s represented by a coefficient ranging from -1 (perfect negative) to +1 (perfect positive), with 0 indicating no linear relationship."
      ]
    },
    {
      "cell_type": "markdown",
      "metadata": {
        "id": "e55caf0f"
      },
      "source": [
        "**15. What does negative correlation mean?**\n",
        "\n",
        "Negative correlation means that as one variable increases, the other decreases. For example, as speed increases, travel time usually decreases. The correlation coefficient lies between 0 and -1."
      ]
    },
    {
      "cell_type": "markdown",
      "metadata": {
        "id": "81ba6439"
      },
      "source": [
        "**16. How can you find correlation between variables in Python?**\n",
        "\n",
        "You can use the .corr() function in pandas:"
      ]
    },
    {
      "cell_type": "markdown",
      "metadata": {
        "id": "c168ee94"
      },
      "source": [
        "**17. What is causation? Explain difference between correlation and causation with an example.**\n",
        "\n",
        "Causation means one variable directly affects another. Correlation shows association but not cause.\n",
        "Example:\n",
        "Ice cream sales and drowning rates are correlated (both rise in summer), but one doesn't cause the other. The hidden cause is hot weather."
      ]
    },
    {
      "cell_type": "markdown",
      "metadata": {
        "id": "4be5a623"
      },
      "source": [
        "**18. What is an Optimizer? What are different types of optimizers? Explain each with an example.**\n",
        "\n",
        "An optimizer updates model parameters to minimize the loss.\n",
        "Common types:\n",
        "\n",
        "SGD: Basic gradient descent.\n",
        "\n",
        "Adam: Combines momentum & RMSProp, adapts learning rate.\n",
        "\n",
        "RMSProp: Adjusts learning rate for each parameter.\n",
        "Example using Adam in TensorFlow:"
      ]
    },
    {
      "cell_type": "markdown",
      "metadata": {
        "id": "1346bc63"
      },
      "source": [
        "**19. What is sklearn.linear_model?**\n",
        "\n",
        "sklearn.linear_model is a Scikit-learn module that provides linear models like Linear Regression, Logistic Regression, and Ridge. These are used for regression and classification tasks depending on the problem type."
      ]
    },
    {
      "cell_type": "markdown",
      "metadata": {
        "id": "f46b6653"
      },
      "source": [
        "**20. What does model.fit() do? What arguments must be given?**\n",
        "\n",
        "model.fit() trains the model on data.\n",
        "Required arguments:\n",
        "\n",
        "X_train: input features\n",
        "\n",
        "y_train: target variable\n",
        "Example:"
      ]
    },
    {
      "cell_type": "markdown",
      "metadata": {
        "id": "148e0d7a"
      },
      "source": [
        "**21. What does model.predict() do? What arguments must be given?**\n",
        "\n",
        "model.predict() makes predictions using the trained model.\n",
        "Argument:\n",
        "\n",
        "X_test: input features to predict on\n",
        "Example:"
      ]
    },
    {
      "cell_type": "markdown",
      "metadata": {
        "id": "015fb5b6"
      },
      "source": [
        "**22. What are continuous and categorical variables?**\n",
        "\n",
        "Continuous variables: Numeric values that can be measured (e.g., height, income).\n",
        "\n",
        "Categorical variables: Values that represent categories or labels (e.g., gender, color).\n",
        "They must be handled differently during data preprocessing."
      ]
    },
    {
      "cell_type": "markdown",
      "metadata": {
        "id": "aed3a397"
      },
      "source": [
        "**23. What is feature scaling? How does it help in Machine Learning?**\n",
        "\n",
        "Feature scaling transforms features to a similar scale, preventing models from favoring features with larger values. It improves performance in algorithms like KNN, SVM, or Gradient Descent-based models where distance or magnitude matters."
      ]
    },
    {
      "cell_type": "markdown",
      "metadata": {
        "id": "c4c2b02c"
      },
      "source": [
        "**24. How do we perform scaling in Python?**\n",
        "questions=Use StandardScaler or MinMaxScaler from sklearn.preprocessing:"
      ]
    },
    {
      "cell_type": "markdown",
      "metadata": {
        "id": "c1945b67"
      },
      "source": [
        "**25. What is sklearn.preprocessing?**\n",
        "\n",
        "sklearn.preprocessing is a module in Scikit-learn offering functions for scaling, normalization, encoding, and transformation of data. It prepares raw data for modeling by converting it into a form suitable for algorithms."
      ]
    },
    {
      "cell_type": "markdown",
      "metadata": {
        "id": "fec20782"
      },
      "source": [
        "**26. How do we split data for model fitting (training and testing) in Python?**\n",
        "\n",
        "Use train_test_split from sklearn.model_selection:"
      ]
    },
    {
      "cell_type": "markdown",
      "metadata": {
        "id": "aacd8a2d"
      },
      "source": [
        "**27. Explain data encoding.**\n",
        "\n",
        "Data encoding converts categorical values into numeric formats for machine learning. Common methods:\n",
        "\n",
        "Label Encoding: Assigns each category an integer.\n",
        "\n",
        "One-Hot Encoding: Creates binary columns for each category.\n",
        "Encoding ensures algorithms can process non-numeric data."
      ]
    }
  ]
}